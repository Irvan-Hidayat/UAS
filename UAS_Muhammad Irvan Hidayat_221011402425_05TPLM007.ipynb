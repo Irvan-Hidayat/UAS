{
 "cells": [
  {
   "cell_type": "code",
   "execution_count": 1,
   "metadata": {},
   "outputs": [],
   "source": [
    "import numpy as np\n",
    "import matplotlib.pyplot as plt\n",
    "\n",
    "# Step 1: Define Fuzzy Logic classes\n",
    "class Fuzzy:\n",
    "    def __init__(self, min_value, max_value):\n",
    "        self.min = min_value\n",
    "        self.max = max_value\n",
    "\n",
    "    def down(self, x):\n",
    "        return max(0, (self.max - x) / (self.max - self.min))\n",
    "\n",
    "    def up(self, x):\n",
    "        return max(0, (x - self.min) / (self.max - self.min))"
   ]
  },
  {
   "cell_type": "code",
   "execution_count": 2,
   "metadata": {},
   "outputs": [],
   "source": [
    "# Step 2: Define membership functions for inputs and outputs\n",
    "# Variables: Purchase Amount, Customer Frequency, Discount\n",
    "\n",
    "# Purchase Amount (in currency)\n",
    "low_purchase = Fuzzy(0, 500)\n",
    "medium_purchase = Fuzzy(300, 1000)\n",
    "high_purchase = Fuzzy(800, 2000)\n",
    "\n",
    "# Customer Frequency (number of purchases per month)\n",
    "low_frequency = Fuzzy(0, 5)\n",
    "medium_frequency = Fuzzy(3, 10)\n",
    "high_frequency = Fuzzy(8, 15)\n",
    "\n",
    "# Discount (percentage)\n",
    "low_discount = Fuzzy(0, 10)\n",
    "medium_discount = Fuzzy(5, 20)\n",
    "high_discount = Fuzzy(15, 30)"
   ]
  },
  {
   "cell_type": "code",
   "execution_count": 3,
   "metadata": {},
   "outputs": [],
   "source": [
    "# Step 3: Define fuzzy rules and fuzzification functions\n",
    "# Fuzzy rules\n",
    "# 1. IF Purchase is Low AND Frequency is Low THEN Discount is Low\n",
    "# 2. IF Purchase is Medium OR Frequency is Medium THEN Discount is Medium\n",
    "# 3. IF Purchase is High AND Frequency is High THEN Discount is High\n",
    "\n",
    "def fuzzify_inputs(purchase, frequency):\n",
    "    # Fuzzification\n",
    "    purchase_low = low_purchase.down(purchase)\n",
    "    purchase_medium = medium_purchase.middle(purchase) if hasattr(medium_purchase, 'middle') else medium_purchase.up(purchase) * medium_purchase.down(purchase)\n",
    "    purchase_high = high_purchase.up(purchase)\n",
    "\n",
    "    frequency_low = low_frequency.down(frequency)\n",
    "    frequency_medium = medium_frequency.middle(frequency) if hasattr(medium_frequency, 'middle') else medium_frequency.up(frequency) * medium_frequency.down(frequency)\n",
    "    frequency_high = high_frequency.up(frequency)\n",
    "\n",
    "    return purchase_low, purchase_medium, purchase_high, frequency_low, frequency_medium, frequency_high\n"
   ]
  },
  {
   "cell_type": "code",
   "execution_count": 4,
   "metadata": {},
   "outputs": [],
   "source": [
    "# Step 4: Evaluate fuzzy rules\n",
    "def evaluate_rules(purchase_low, purchase_medium, purchase_high, frequency_low, frequency_medium, frequency_high):\n",
    "    rule1 = min(purchase_low, frequency_low)\n",
    "    rule2 = max(purchase_medium, frequency_medium)\n",
    "    rule3 = min(purchase_high, frequency_high)\n",
    "\n",
    "    return rule1, rule2, rule3"
   ]
  },
  {
   "cell_type": "code",
   "execution_count": 5,
   "metadata": {},
   "outputs": [],
   "source": [
    "# Step 5: Defuzzification\n",
    "def defuzzify(rule1, rule2, rule3):\n",
    "    discount_low = rule1\n",
    "    discount_medium = rule2\n",
    "    discount_high = rule3\n",
    "\n",
    "    numerator = (discount_low * 5 + discount_medium * 15 + discount_high * 25)\n",
    "    denominator = (discount_low + discount_medium + discount_high)\n",
    "\n",
    "    if denominator == 0:\n",
    "        return 0  # Avoid division by zero\n",
    "\n",
    "    return numerator / denominator\n"
   ]
  },
  {
   "cell_type": "code",
   "execution_count": 6,
   "metadata": {},
   "outputs": [],
   "source": [
    "# Step 6: Combine steps into the main function\n",
    "def fuzzy_discount(purchase, frequency):\n",
    "    purchase_low, purchase_medium, purchase_high, frequency_low, frequency_medium, frequency_high = fuzzify_inputs(purchase, frequency)\n",
    "    rule1, rule2, rule3 = evaluate_rules(purchase_low, purchase_medium, purchase_high, frequency_low, frequency_medium, frequency_high)\n",
    "    return defuzzify(rule1, rule2, rule3)\n"
   ]
  },
  {
   "cell_type": "code",
   "execution_count": 7,
   "metadata": {},
   "outputs": [
    {
     "name": "stdout",
     "output_type": "stream",
     "text": [
      "Fuzzification Results:\n",
      "Purchase - Low: 0, Medium: 0.2295918367346939, High: 0\n",
      "Frequency - Low: 0, Medium: 0.20408163265306123, High: 0\n",
      "\n",
      "Rule Evaluation Results:\n",
      "Rule 1: 0, Rule 2: 0.2295918367346939, Rule 3: 0\n",
      "\n",
      "Defuzzified Discount: 15.00%\n"
     ]
    }
   ],
   "source": [
    "# Step 7: Example usage\n",
    "purchase = 750\n",
    "frequency = 8\n",
    "\n",
    "# Fuzzification step outputs\n",
    "purchase_low, purchase_medium, purchase_high, frequency_low, frequency_medium, frequency_high = fuzzify_inputs(purchase, frequency)\n",
    "print(f\"Fuzzification Results:\\nPurchase - Low: {purchase_low}, Medium: {purchase_medium}, High: {purchase_high}\\nFrequency - Low: {frequency_low}, Medium: {frequency_medium}, High: {frequency_high}\")\n",
    "\n",
    "# Rule evaluation step outputs\n",
    "rule1, rule2, rule3 = evaluate_rules(purchase_low, purchase_medium, purchase_high, frequency_low, frequency_medium, frequency_high)\n",
    "print(f\"\\nRule Evaluation Results:\\nRule 1: {rule1}, Rule 2: {rule2}, Rule 3: {rule3}\")\n",
    "\n",
    "# Final defuzzified result\n",
    "discount = defuzzify(rule1, rule2, rule3)\n",
    "print(f\"\\nDefuzzified Discount: {discount:.2f}%\")\n"
   ]
  }
 ],
 "metadata": {
  "kernelspec": {
   "display_name": "Python 3",
   "language": "python",
   "name": "python3"
  },
  "language_info": {
   "codemirror_mode": {
    "name": "ipython",
    "version": 3
   },
   "file_extension": ".py",
   "mimetype": "text/x-python",
   "name": "python",
   "nbconvert_exporter": "python",
   "pygments_lexer": "ipython3",
   "version": "3.13.0"
  }
 },
 "nbformat": 4,
 "nbformat_minor": 2
}
